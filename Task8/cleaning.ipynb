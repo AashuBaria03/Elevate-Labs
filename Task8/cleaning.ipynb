{
 "cells": [
  {
   "cell_type": "code",
   "execution_count": 11,
   "id": "347065ed",
   "metadata": {},
   "outputs": [],
   "source": [
    "import pandas as pd\n",
    "\n",
    "\n"
   ]
  },
  {
   "cell_type": "code",
   "execution_count": 12,
   "id": "fb997416",
   "metadata": {},
   "outputs": [],
   "source": [
    "# Step 1: Load the dataset\n",
    "df = pd.read_csv(\"Sample - Superstore.csv\", encoding='latin1')\n",
    "\n"
   ]
  },
  {
   "cell_type": "code",
   "execution_count": 13,
   "id": "16c8aabb",
   "metadata": {},
   "outputs": [],
   "source": [
    "# Step 2: Convert 'Order Date' to datetime format\n",
    "df['Order Date'] = pd.to_datetime(df['Order Date'])\n",
    "\n"
   ]
  },
  {
   "cell_type": "code",
   "execution_count": 14,
   "id": "fa6ab054",
   "metadata": {},
   "outputs": [],
   "source": [
    "# Step 3: Create 'Month-Year' column in \"MMM YYYY\" format\n",
    "df['Month-Year'] = df['Order Date'].dt.strftime('%b %Y')\n",
    "\n"
   ]
  },
  {
   "cell_type": "code",
   "execution_count": 15,
   "id": "69b4a63d",
   "metadata": {},
   "outputs": [
    {
     "name": "stdout",
     "output_type": "stream",
     "text": [
      "All required columns are present.\n"
     ]
    }
   ],
   "source": [
    "# Step 4: Check essential columns\n",
    "required_columns = ['Region', 'Category', 'Sales', 'Profit']\n",
    "missing_columns = [col for col in required_columns if col not in df.columns]\n",
    "\n",
    "if missing_columns:\n",
    "    print(f\"Missing columns: {missing_columns}\")\n",
    "else:\n",
    "    print(\"All required columns are present.\")\n",
    "\n"
   ]
  },
  {
   "cell_type": "code",
   "execution_count": 16,
   "id": "dade1e19",
   "metadata": {},
   "outputs": [
    {
     "name": "stdout",
     "output_type": "stream",
     "text": [
      "Row ID                    int64\n",
      "Order ID                 object\n",
      "Order Date       datetime64[ns]\n",
      "Ship Date                object\n",
      "Ship Mode                object\n",
      "Customer ID              object\n",
      "Customer Name            object\n",
      "Segment                  object\n",
      "Country                  object\n",
      "City                     object\n",
      "State                    object\n",
      "Postal Code               int64\n",
      "Region                   object\n",
      "Product ID               object\n",
      "Category                 object\n",
      "Sub-Category             object\n",
      "Product Name             object\n",
      "Sales                   float64\n",
      "Quantity                  int64\n",
      "Discount                float64\n",
      "Profit                  float64\n",
      "Month-Year               object\n",
      "dtype: object\n"
     ]
    }
   ],
   "source": [
    "# Step 5 (Optional): Check data types\n",
    "print(df.dtypes)\n",
    "\n"
   ]
  },
  {
   "cell_type": "code",
   "execution_count": 17,
   "id": "cf97b04d",
   "metadata": {},
   "outputs": [],
   "source": [
    "# Step 6 (Optional): Save cleaned data to new CSV\n",
    "df.to_csv(\"Cleaned_Superstore_Sales.csv\", index=False)"
   ]
  }
 ],
 "metadata": {
  "kernelspec": {
   "display_name": "base",
   "language": "python",
   "name": "python3"
  },
  "language_info": {
   "codemirror_mode": {
    "name": "ipython",
    "version": 3
   },
   "file_extension": ".py",
   "mimetype": "text/x-python",
   "name": "python",
   "nbconvert_exporter": "python",
   "pygments_lexer": "ipython3",
   "version": "3.12.3"
  }
 },
 "nbformat": 4,
 "nbformat_minor": 5
}
